{
 "cells": [
  {
   "cell_type": "code",
   "execution_count": 2,
   "id": "e6619f12",
   "metadata": {},
   "outputs": [],
   "source": [
    "import ee\n",
    "import geemap"
   ]
  },
  {
   "cell_type": "code",
   "execution_count": 3,
   "id": "4cecb9ea",
   "metadata": {
    "scrolled": true
   },
   "outputs": [
    {
     "data": {
      "application/vnd.jupyter.widget-view+json": {
       "model_id": "91cb9e14621d448e9294357a5cc6d2d7",
       "version_major": 2,
       "version_minor": 0
      },
      "text/plain": [
       "Map(center=[40, -100], controls=(WidgetControl(options=['position', 'transparent_bg'], widget=HBox(children=(T…"
      ]
     },
     "metadata": {},
     "output_type": "display_data"
    }
   ],
   "source": [
    "Map = geemap.Map(center=[40, -100], zoom=4)\n",
    "Map.add_basemap('SATELLITE')\n",
    "Map"
   ]
  },
  {
   "cell_type": "code",
   "execution_count": 4,
   "id": "5beb5f70",
   "metadata": {},
   "outputs": [
    {
     "name": "stdout",
     "output_type": "stream",
     "text": [
      "{'geodesic': False, 'type': 'Polygon', 'coordinates': [[[-97.465495, 25.966006], [-97.465495, 25.978391], [-97.433922, 25.978391], [-97.433922, 25.966006], [-97.465495, 25.966006]]]}\n"
     ]
    }
   ],
   "source": [
    "roi = Map.user_roi\n",
    "print(roi.getInfo())"
   ]
  },
  {
   "cell_type": "code",
   "execution_count": 5,
   "id": "6ee72a3e",
   "metadata": {},
   "outputs": [],
   "source": [
    "images = (\n",
    "    ee.ImageCollection('LANDSAT/LC08/C01/T1_SR')\n",
    "    .filterBounds(roi)\n",
    "    .filterDate('2015-01-01', '2019-12-31')\n",
    "    .sort('CLOUD_COVER')\n",
    ")"
   ]
  },
  {
   "cell_type": "code",
   "execution_count": 6,
   "id": "fa6a2451",
   "metadata": {},
   "outputs": [
    {
     "name": "stdout",
     "output_type": "stream",
     "text": [
      "99\n"
     ]
    }
   ],
   "source": [
    "print(images.size().getInfo())\n"
   ]
  },
  {
   "cell_type": "code",
   "execution_count": 7,
   "id": "d9adeaa5",
   "metadata": {},
   "outputs": [],
   "source": [
    "# best_image = images.toList(images.size()).get(0)\n",
    "best_image = images.first().select(['B1', 'B2', 'B3', 'B4', 'B5', 'B6', 'B7'])"
   ]
  },
  {
   "cell_type": "code",
   "execution_count": 8,
   "id": "33832a50",
   "metadata": {},
   "outputs": [
    {
     "data": {
      "application/vnd.jupyter.widget-view+json": {
       "model_id": "91cb9e14621d448e9294357a5cc6d2d7",
       "version_major": 2,
       "version_minor": 0
      },
      "text/plain": [
       "Map(bottom=3567682.0, center=[25.96707340915764, -97.45160429998656], controls=(WidgetControl(options=['positi…"
      ]
     },
     "metadata": {},
     "output_type": "display_data"
    }
   ],
   "source": [
    "vis_params = {\n",
    "    'bands': ['B5', 'B4', 'B3'],\n",
    "    'min': 0,\n",
    "    'max': 6000,\n",
    "    'gamma': 1.4,\n",
    "}\n",
    "Map.addLayer(best_image, vis_params, 'Best image')\n",
    "Map"
   ]
  },
  {
   "cell_type": "code",
   "execution_count": 10,
   "id": "a7db3592",
   "metadata": {},
   "outputs": [
    {
     "name": "stdout",
     "output_type": "stream",
     "text": [
      "{'type': 'Image', 'bands': [{'id': 'B1', 'data_type': {'type': 'PixelType', 'precision': 'int', 'min': -32768, 'max': 32767}, 'dimensions': [7571, 7731], 'crs': 'EPSG:32614', 'crs_transform': [30, 0, 546285, 0, -30, 2991315]}, {'id': 'B2', 'data_type': {'type': 'PixelType', 'precision': 'int', 'min': -32768, 'max': 32767}, 'dimensions': [7571, 7731], 'crs': 'EPSG:32614', 'crs_transform': [30, 0, 546285, 0, -30, 2991315]}, {'id': 'B3', 'data_type': {'type': 'PixelType', 'precision': 'int', 'min': -32768, 'max': 32767}, 'dimensions': [7571, 7731], 'crs': 'EPSG:32614', 'crs_transform': [30, 0, 546285, 0, -30, 2991315]}, {'id': 'B4', 'data_type': {'type': 'PixelType', 'precision': 'int', 'min': -32768, 'max': 32767}, 'dimensions': [7571, 7731], 'crs': 'EPSG:32614', 'crs_transform': [30, 0, 546285, 0, -30, 2991315]}, {'id': 'B5', 'data_type': {'type': 'PixelType', 'precision': 'int', 'min': -32768, 'max': 32767}, 'dimensions': [7571, 7731], 'crs': 'EPSG:32614', 'crs_transform': [30, 0, 546285, 0, -30, 2991315]}, {'id': 'B6', 'data_type': {'type': 'PixelType', 'precision': 'int', 'min': -32768, 'max': 32767}, 'dimensions': [7571, 7731], 'crs': 'EPSG:32614', 'crs_transform': [30, 0, 546285, 0, -30, 2991315]}, {'id': 'B7', 'data_type': {'type': 'PixelType', 'precision': 'int', 'min': -32768, 'max': 32767}, 'dimensions': [7571, 7731], 'crs': 'EPSG:32614', 'crs_transform': [30, 0, 546285, 0, -30, 2991315]}], 'id': 'LANDSAT/LC08/C01/T1_SR/LC08_026042_20151102', 'version': 1614085972241477, 'properties': {'IMAGE_QUALITY_TIRS': 9, 'CLOUD_COVER': 0, 'EARTH_SUN_DISTANCE': 0.992249, 'LANDSAT_ID': 'LC08_L1TP_026042_20151102_20170225_01_T1', 'system:footprint': {'type': 'LinearRing', 'coordinates': [[-96.81635080138409, 24.959221870065484], [-96.72350707152417, 24.939705139897768], [-96.67480192734916, 25.132913342496874], [-96.60269624572683, 25.41796103503354], [-96.55892967420819, 25.590376924912857], [-96.53424443873004, 25.687433119145563], [-96.50672558389726, 25.795478418097712], [-96.46974523989826, 25.94045659159996], [-96.41763414210747, 26.144298110599415], [-96.37878098643809, 26.295841323523042], [-96.35050727530154, 26.405936221082932], [-96.31349667827288, 26.549797914584662], [-96.28246758628187, 26.670184057330676], [-96.30867708619401, 26.67562753909574], [-97.94771928816016, 27.004908686266944], [-98.10895912063509, 27.036182122095383], [-98.11023990189027, 27.03100841813926], [-98.31785145494844, 26.169473120694892], [-98.52247985592913, 25.30666196522787], [-98.09829617758669, 25.22228296520912], [-97.00228163435288, 24.998123790407718], [-96.81635080138409, 24.959221870065484]]}, 'CLOUD_COVER_LAND': 0, 'GEOMETRIC_RMSE_MODEL': 7.883, 'SR_APP_VERSION': 'LaSRC_1.3.0', 'SATELLITE': 'LANDSAT_8', 'SOLAR_AZIMUTH_ANGLE': 153.760101, 'IMAGE_QUALITY_OLI': 9, 'system:time_end': 1446483488008, 'WRS_PATH': 26, 'system:time_start': 1446483488008, 'SENSING_TIME': '2015-11-02T16:58:08.0081870Z', 'ESPA_VERSION': '2_23_0_1b', 'SOLAR_ZENITH_ANGLE': 44.686653, 'WRS_ROW': 42, 'GEOMETRIC_RMSE_MODEL_Y': 5.466, 'LEVEL1_PRODUCTION_DATE': 1488000085000, 'GEOMETRIC_RMSE_MODEL_X': 5.681, 'system:asset_size': 457703606, 'PIXEL_QA_VERSION': 'generate_pixel_qa_1.6.0', 'system:index': 'LC08_026042_20151102'}}\n"
     ]
    }
   ],
   "source": [
    "print(best_image.getInfo())\n"
   ]
  },
  {
   "cell_type": "code",
   "execution_count": 9,
   "id": "4866fe3e",
   "metadata": {},
   "outputs": [
    {
     "name": "stdout",
     "output_type": "stream",
     "text": [
      "2015-11-02\n"
     ]
    }
   ],
   "source": [
    "print(ee.Date(best_image.get('system:time_start')).format('YYYY-MM-dd').getInfo())"
   ]
  },
  {
   "cell_type": "code",
   "execution_count": 10,
   "id": "66c3d1fb",
   "metadata": {},
   "outputs": [],
   "source": [
    "image = ee.Image('LANDSAT/LC08/C01/T1_SR/LC08_039035_20150724')\n",
    "vis_params = {\n",
    "    'bands': ['B5', 'B4', 'B3'],\n",
    "    'min': 0,\n",
    "    'max': 6000,\n",
    "    'gamma': 1.4,\n",
    "}\n",
    "Map.addLayer(image, vis_params, 'image')"
   ]
  },
  {
   "cell_type": "code",
   "execution_count": 11,
   "id": "6f522082",
   "metadata": {},
   "outputs": [],
   "source": [
    "ndwi_image = image.normalizedDifference(['B3', 'B5'])\n"
   ]
  },
  {
   "cell_type": "code",
   "execution_count": 12,
   "id": "f0631a6a",
   "metadata": {},
   "outputs": [],
   "source": [
    "vis_ndwi = {\n",
    "    'min': -1,\n",
    "    'max': 1,\n",
    "    'palette': [\n",
    "        '#ece7f2',\n",
    "        '#d0d1e6',\n",
    "        '#a6bddb',\n",
    "        '#74a9cf',\n",
    "        '#3690c0',\n",
    "        '#0570b0',\n",
    "        '#045a8d',\n",
    "        '#023858',\n",
    "    ],\n",
    "}\n",
    "Map.addLayer(ndwi_image, vis_ndwi, 'NDWI image')"
   ]
  },
  {
   "cell_type": "code",
   "execution_count": 13,
   "id": "492db38a",
   "metadata": {},
   "outputs": [
    {
     "data": {
      "application/vnd.jupyter.widget-view+json": {
       "model_id": "91cb9e14621d448e9294357a5cc6d2d7",
       "version_major": 2,
       "version_minor": 0
      },
      "text/plain": [
       "Map(bottom=3567571.0, center=[25.971356028755935, -97.44890213012697], controls=(WidgetControl(options=['posit…"
      ]
     },
     "metadata": {},
     "output_type": "display_data"
    }
   ],
   "source": [
    "Map"
   ]
  },
  {
   "cell_type": "code",
   "execution_count": 17,
   "id": "b6bbde3f",
   "metadata": {},
   "outputs": [
    {
     "name": "stdout",
     "output_type": "stream",
     "text": [
      "['B1', 'B2', 'B3', 'B4', 'B5', 'B6', 'B7']\n"
     ]
    }
   ],
   "source": [
    "print(best_image.get('system:band_names').getInfo())\n"
   ]
  },
  {
   "cell_type": "code",
   "execution_count": 18,
   "id": "b7ce8cd9",
   "metadata": {},
   "outputs": [
    {
     "name": "stdout",
     "output_type": "stream",
     "text": [
      "LANDSAT/LC08/C01/T1_SR/LC08_026042_20151102\n"
     ]
    }
   ],
   "source": [
    "print(best_image.get('system:id').getInfo())\n"
   ]
  },
  {
   "cell_type": "code",
   "execution_count": 19,
   "id": "b4742690",
   "metadata": {},
   "outputs": [],
   "source": [
    "image = ee.Image('LANDSAT/LC08/C01/T1_SR/LC08_026042_20151102')\n",
    "vis_params = {\n",
    "    'bands': ['B5', 'B4', 'B3'],\n",
    "    'min': 0,\n",
    "    'max': 6000,\n",
    "    'gamma': 1.4,\n",
    "}\n",
    "Map.addLayer(image, vis_params, 'image')\n",
    "Map.centerObject(image, 8)"
   ]
  },
  {
   "cell_type": "code",
   "execution_count": 20,
   "id": "eddd0c9e",
   "metadata": {},
   "outputs": [],
   "source": [
    "ndwi_image = image.normalizedDifference(['B3', 'B5'])\n"
   ]
  },
  {
   "cell_type": "code",
   "execution_count": 21,
   "id": "4da0a48d",
   "metadata": {},
   "outputs": [],
   "source": [
    "vis_ndwi = {\n",
    "    'min': -1,\n",
    "    'max': 1,\n",
    "    'palette': [\n",
    "        '#ece7f2',\n",
    "        '#d0d1e6',\n",
    "        '#a6bddb',\n",
    "        '#74a9cf',\n",
    "        '#3690c0',\n",
    "        '#0570b0',\n",
    "        '#045a8d',\n",
    "        '#023858',\n",
    "    ],\n",
    "}\n",
    "Map.addLayer(ndwi_image, vis_ndwi, 'NDWI image')"
   ]
  },
  {
   "cell_type": "code",
   "execution_count": 22,
   "id": "446d7b3d",
   "metadata": {},
   "outputs": [
    {
     "data": {
      "application/vnd.jupyter.widget-view+json": {
       "model_id": "91cb9e14621d448e9294357a5cc6d2d7",
       "version_major": 2,
       "version_minor": 0
      },
      "text/plain": [
       "Map(bottom=28165.0, center=[25.991083799262398, -97.40886737273989], controls=(WidgetControl(options=['positio…"
      ]
     },
     "metadata": {},
     "output_type": "display_data"
    }
   ],
   "source": [
    "Map"
   ]
  },
  {
   "cell_type": "code",
   "execution_count": 23,
   "id": "8044b14f",
   "metadata": {},
   "outputs": [],
   "source": [
    "ndwi_threshold = 0\n",
    "water_image = ndwi_image.gt(ndwi_threshold).selfMask()"
   ]
  },
  {
   "cell_type": "code",
   "execution_count": 24,
   "id": "b6b910c4",
   "metadata": {},
   "outputs": [],
   "source": [
    "Map.addLayer(water_image, {'palette': 'blue'}, 'Water image')\n"
   ]
  },
  {
   "cell_type": "code",
   "execution_count": 25,
   "id": "461e0e2d",
   "metadata": {},
   "outputs": [
    {
     "data": {
      "text/plain": [
       "(TileLayer(attribution='&copy; <a href=\"https://www.openstreetmap.org/copyright\">OpenStreetMap</a> contributors', base=True, max_zoom=19, min_zoom=1, name='OpenStreetMap.Mapnik', options=['attribution', 'bounds', 'detect_retina', 'max_native_zoom', 'max_zoom', 'min_native_zoom', 'min_zoom', 'no_wrap', 'tile_size', 'tms'], url='https://a.tile.openstreetmap.org/{z}/{x}/{y}.png'),\n",
       " TileLayer(attribution='Google', max_zoom=22, name='Google Maps', options=['attribution', 'bounds', 'detect_retina', 'max_native_zoom', 'max_zoom', 'min_native_zoom', 'min_zoom', 'no_wrap', 'tile_size', 'tms'], url='https://mt1.google.com/vt/lyrs=m&x={x}&y={y}&z={z}'),\n",
       " TileLayer(attribution='Google', max_zoom=22, name='Google Satellite', options=['attribution', 'bounds', 'detect_retina', 'max_native_zoom', 'max_zoom', 'min_native_zoom', 'min_zoom', 'no_wrap', 'tile_size', 'tms'], url='https://mt1.google.com/vt/lyrs=s&x={x}&y={y}&z={z}'),\n",
       " TileLayer(attribution='Google Earth Engine', name='Drawn Features', opacity=0.5, options=['attribution', 'bounds', 'detect_retina', 'max_native_zoom', 'max_zoom', 'min_native_zoom', 'min_zoom', 'no_wrap', 'tile_size', 'tms'], url='https://earthengine.googleapis.com/v1alpha/projects/earthengine-legacy/maps/54cca396c69cee9f52afce002c6060ce-d107ec16f182ec7b0d22326b9ff574fa/tiles/{z}/{x}/{y}', visible=False),\n",
       " TileLayer(attribution='Google Earth Engine', max_zoom=24, name='Best image', options=['attribution', 'bounds', 'detect_retina', 'max_native_zoom', 'max_zoom', 'min_native_zoom', 'min_zoom', 'no_wrap', 'tile_size', 'tms'], url='https://earthengine.googleapis.com/v1alpha/projects/earthengine-legacy/maps/f78cea330d9517a85f1792a26103547a-eecb4685c7d3f15b28c15812d4dda30e/tiles/{z}/{x}/{y}'),\n",
       " TileLayer(attribution='Google Earth Engine', max_zoom=24, name='image', options=['attribution', 'bounds', 'detect_retina', 'max_native_zoom', 'max_zoom', 'min_native_zoom', 'min_zoom', 'no_wrap', 'tile_size', 'tms'], url='https://earthengine.googleapis.com/v1alpha/projects/earthengine-legacy/maps/0b4d911ceeab6be54c2b9c31269abbe0-4b662adcc9eb1e4c534d53ac40875500/tiles/{z}/{x}/{y}'),\n",
       " TileLayer(attribution='Google Earth Engine', max_zoom=24, name='NDWI image', options=['attribution', 'bounds', 'detect_retina', 'max_native_zoom', 'max_zoom', 'min_native_zoom', 'min_zoom', 'no_wrap', 'tile_size', 'tms'], url='https://earthengine.googleapis.com/v1alpha/projects/earthengine-legacy/maps/5d3764f91e0504ab88db7d97df39319e-246dd704aa3fb6a0681c5bb6be12deee/tiles/{z}/{x}/{y}'),\n",
       " TileLayer(attribution='Google Earth Engine', max_zoom=24, name='Water image', options=['attribution', 'bounds', 'detect_retina', 'max_native_zoom', 'max_zoom', 'min_native_zoom', 'min_zoom', 'no_wrap', 'tile_size', 'tms'], url='https://earthengine.googleapis.com/v1alpha/projects/earthengine-legacy/maps/a50d76e60a64569cb817ad14d5a2ce3e-78dd90f59677456cc311df2ae36dbdaa/tiles/{z}/{x}/{y}'))"
      ]
     },
     "execution_count": 25,
     "metadata": {},
     "output_type": "execute_result"
    }
   ],
   "source": [
    "Map.layers\n"
   ]
  },
  {
   "cell_type": "code",
   "execution_count": 26,
   "id": "512f4c77",
   "metadata": {},
   "outputs": [],
   "source": [
    "water_layer = Map.layers[-1]\n"
   ]
  },
  {
   "cell_type": "code",
   "execution_count": 27,
   "id": "c7cec8ca",
   "metadata": {},
   "outputs": [
    {
     "data": {
      "application/vnd.jupyter.widget-view+json": {
       "model_id": "2fea529b7bd44eb6af83f681237f0c66",
       "version_major": 2,
       "version_minor": 0
      },
      "text/plain": [
       "Box(children=(FloatSlider(value=1.0, description='opacity', max=1.0),))"
      ]
     },
     "metadata": {},
     "output_type": "display_data"
    }
   ],
   "source": [
    "water_layer.interact(opacity=(0.0, 1.0, 0.1))\n"
   ]
  },
  {
   "cell_type": "code",
   "execution_count": 28,
   "id": "d5466d5a",
   "metadata": {},
   "outputs": [
    {
     "data": {
      "application/vnd.jupyter.widget-view+json": {
       "model_id": "91cb9e14621d448e9294357a5cc6d2d7",
       "version_major": 2,
       "version_minor": 0
      },
      "text/plain": [
       "Map(bottom=28165.0, center=[25.991083799262398, -97.40886737273989], controls=(WidgetControl(options=['positio…"
      ]
     },
     "metadata": {},
     "output_type": "display_data"
    }
   ],
   "source": [
    "Map"
   ]
  },
  {
   "cell_type": "code",
   "execution_count": 29,
   "id": "4836dc5d",
   "metadata": {},
   "outputs": [],
   "source": [
    "water_vector = water_image.reduceToVectors(scale=30, maxPixels=60000000)\n",
    "Map.addLayer(water_vector, {}, 'Water vector')"
   ]
  },
  {
   "cell_type": "code",
   "execution_count": 30,
   "id": "df6c457a",
   "metadata": {},
   "outputs": [
    {
     "data": {
      "application/vnd.jupyter.widget-view+json": {
       "model_id": "91cb9e14621d448e9294357a5cc6d2d7",
       "version_major": 2,
       "version_minor": 0
      },
      "text/plain": [
       "Map(bottom=3567691.0, center=[25.966726162897547, -97.45139122009279], controls=(WidgetControl(options=['posit…"
      ]
     },
     "metadata": {},
     "output_type": "display_data"
    }
   ],
   "source": [
    "Map"
   ]
  },
  {
   "cell_type": "code",
   "execution_count": 35,
   "id": "cae67657",
   "metadata": {},
   "outputs": [],
   "source": [
    "roi = Map.user_roi\n",
    "Resacas = water_vector.filterBounds(roi)\n",
    "Map.addLayer(Resacas, {}, 'Resacas')\n"
   ]
  },
  {
   "cell_type": "code",
   "execution_count": 36,
   "id": "640d0f8c",
   "metadata": {},
   "outputs": [],
   "source": [
    "Map.addLayer(\n",
    "    ee.Image().paint(Resacas, 0, 2), {'palette': 'blue'}, 'Resacas Outline'\n",
    ")"
   ]
  },
  {
   "cell_type": "code",
   "execution_count": null,
   "id": "e7a88f9e",
   "metadata": {},
   "outputs": [],
   "source": [
    "Map"
   ]
  },
  {
   "cell_type": "code",
   "execution_count": null,
   "id": "032e2a87",
   "metadata": {},
   "outputs": [],
   "source": []
  }
 ],
 "metadata": {
  "kernelspec": {
   "display_name": "Python 3 (ipykernel)",
   "language": "python",
   "name": "python3"
  },
  "language_info": {
   "codemirror_mode": {
    "name": "ipython",
    "version": 3
   },
   "file_extension": ".py",
   "mimetype": "text/x-python",
   "name": "python",
   "nbconvert_exporter": "python",
   "pygments_lexer": "ipython3",
   "version": "3.10.5"
  }
 },
 "nbformat": 4,
 "nbformat_minor": 5
}
